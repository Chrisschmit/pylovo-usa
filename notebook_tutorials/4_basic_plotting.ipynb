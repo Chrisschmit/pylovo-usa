{
 "cells": [
  {
   "cell_type": "markdown",
   "metadata": {
    "collapsed": false,
    "jupyter": {
     "outputs_hidden": false
    }
   },
   "source": [
    "# Plotting network parameters of plz"
   ]
  },
  {
   "cell_type": "code",
   "execution_count": 1,
   "metadata": {
    "ExecuteTime": {
     "end_time": "2025-04-08T12:54:47.476492Z",
     "start_time": "2025-04-08T12:54:44.524571Z"
    },
    "collapsed": false,
    "jupyter": {
     "outputs_hidden": false
    }
   },
   "outputs": [],
   "source": [
    "import warnings\n",
    "\n",
    "from plotting.plot_for_plz import *\n",
    "from src.GridGenerator import GridGenerator\n",
    "\n",
    "warnings.filterwarnings('ignore')"
   ]
  },
  {
   "cell_type": "code",
   "execution_count": 2,
   "metadata": {
    "ExecuteTime": {
     "end_time": "2025-04-08T12:55:03.161637Z",
     "start_time": "2025-04-08T12:55:03.154848Z"
    }
   },
   "outputs": [],
   "source": [
    "plz = 80803"
   ]
  },
  {
   "cell_type": "code",
   "execution_count": 3,
   "metadata": {},
   "outputs": [
    {
     "ename": "IndexError",
     "evalue": "list index out of range",
     "output_type": "error",
     "traceback": [
      "\u001B[0;31m---------------------------------------------------------------------------\u001B[0m",
      "\u001B[0;31mIndexError\u001B[0m                                Traceback (most recent call last)",
      "Cell \u001B[0;32mIn[3], line 1\u001B[0m\n\u001B[0;32m----> 1\u001B[0m \u001B[43mplot_pie_of_trafo_cables\u001B[49m\u001B[43m(\u001B[49m\u001B[43mplz\u001B[49m\u001B[43m)\u001B[49m\n",
      "File \u001B[0;32m~/git/github/pylovo/plotting/plot_for_plz.py:27\u001B[0m, in \u001B[0;36mplot_pie_of_trafo_cables\u001B[0;34m(plz)\u001B[0m\n\u001B[1;32m     25\u001B[0m gg \u001B[38;5;241m=\u001B[39m GridGenerator(plz\u001B[38;5;241m=\u001B[39mplz)\n\u001B[1;32m     26\u001B[0m dbc_client \u001B[38;5;241m=\u001B[39m gg\u001B[38;5;241m.\u001B[39mdbc\n\u001B[0;32m---> 27\u001B[0m data_list, data_labels, trafo_dict \u001B[38;5;241m=\u001B[39m \u001B[43mdbc_client\u001B[49m\u001B[38;5;241;43m.\u001B[39;49m\u001B[43mread_per_trafo_dict\u001B[49m\u001B[43m(\u001B[49m\u001B[43mplz\u001B[49m\u001B[38;5;241;43m=\u001B[39;49m\u001B[43mplz\u001B[49m\u001B[43m)\u001B[49m\n\u001B[1;32m     28\u001B[0m fig, axs \u001B[38;5;241m=\u001B[39m plt\u001B[38;5;241m.\u001B[39msubplots(nrows\u001B[38;5;241m=\u001B[39m\u001B[38;5;241m1\u001B[39m, ncols\u001B[38;5;241m=\u001B[39m\u001B[38;5;241m2\u001B[39m, figsize\u001B[38;5;241m=\u001B[39m(\u001B[38;5;241m16\u001B[39m, \u001B[38;5;241m4\u001B[39m))\n\u001B[1;32m     29\u001B[0m \u001B[38;5;66;03m# Plot Transformer size distribution\u001B[39;00m\n",
      "File \u001B[0;32m~/git/github/pylovo/pylovo/database_modules/databaseRead.py:418\u001B[0m, in \u001B[0;36mReadMixin.read_per_trafo_dict\u001B[0;34m(self, plz)\u001B[0m\n\u001B[1;32m    415\u001B[0m result \u001B[38;5;241m=\u001B[39m \u001B[38;5;28mself\u001B[39m\u001B[38;5;241m.\u001B[39mcur\u001B[38;5;241m.\u001B[39mfetchall()\n\u001B[1;32m    417\u001B[0m \u001B[38;5;66;03m# Sort all parameters according to transformer size\u001B[39;00m\n\u001B[0;32m--> 418\u001B[0m load_dict \u001B[38;5;241m=\u001B[39m \u001B[38;5;28mdict\u001B[39m(\u001B[38;5;28msorted\u001B[39m(\u001B[43mresult\u001B[49m\u001B[43m[\u001B[49m\u001B[38;5;241;43m0\u001B[39;49m\u001B[43m]\u001B[49m[\u001B[38;5;241m0\u001B[39m]\u001B[38;5;241m.\u001B[39mitems(), key\u001B[38;5;241m=\u001B[39m\u001B[38;5;28;01mlambda\u001B[39;00m x: \u001B[38;5;28mint\u001B[39m(x[\u001B[38;5;241m0\u001B[39m])))\n\u001B[1;32m    419\u001B[0m bus_dict \u001B[38;5;241m=\u001B[39m \u001B[38;5;28mdict\u001B[39m(\u001B[38;5;28msorted\u001B[39m(result[\u001B[38;5;241m0\u001B[39m][\u001B[38;5;241m1\u001B[39m]\u001B[38;5;241m.\u001B[39mitems(), key\u001B[38;5;241m=\u001B[39m\u001B[38;5;28;01mlambda\u001B[39;00m x: \u001B[38;5;28mint\u001B[39m(x[\u001B[38;5;241m0\u001B[39m])))\n\u001B[1;32m    420\u001B[0m peak_dict \u001B[38;5;241m=\u001B[39m \u001B[38;5;28mdict\u001B[39m(\u001B[38;5;28msorted\u001B[39m(result[\u001B[38;5;241m0\u001B[39m][\u001B[38;5;241m2\u001B[39m]\u001B[38;5;241m.\u001B[39mitems(), key\u001B[38;5;241m=\u001B[39m\u001B[38;5;28;01mlambda\u001B[39;00m x: \u001B[38;5;28mint\u001B[39m(x[\u001B[38;5;241m0\u001B[39m])))\n",
      "\u001B[0;31mIndexError\u001B[0m: list index out of range"
     ]
    }
   ],
   "source": [
    "plot_pie_of_trafo_cables(plz)"
   ]
  },
  {
   "cell_type": "code",
   "execution_count": null,
   "metadata": {
    "ExecuteTime": {
     "end_time": "2025-04-08T12:52:29.675777200Z",
     "start_time": "2025-03-12T09:57:11.552183Z"
    }
   },
   "outputs": [],
   "source": [
    "plot_hist_trafos(plz)"
   ]
  },
  {
   "cell_type": "code",
   "execution_count": null,
   "metadata": {
    "ExecuteTime": {
     "end_time": "2025-04-08T12:52:29.677776900Z",
     "start_time": "2025-03-12T09:57:11.953318Z"
    },
    "scrolled": true
   },
   "outputs": [],
   "source": [
    "plot_boxplot_plz(plz)"
   ]
  },
  {
   "cell_type": "code",
   "execution_count": null,
   "metadata": {
    "ExecuteTime": {
     "end_time": "2025-04-08T12:55:42.160919Z",
     "start_time": "2025-04-08T12:55:07.466950Z"
    }
   },
   "outputs": [],
   "source": [
    "plot_trafo_on_map(plz)"
   ]
  },
  {
   "cell_type": "code",
   "execution_count": null,
   "metadata": {
    "ExecuteTime": {
     "end_time": "2025-04-08T12:52:29.799939900Z",
     "start_time": "2025-03-12T09:57:49.025334Z"
    }
   },
   "outputs": [],
   "source": [
    "plot_cable_length_of_types(plz)"
   ]
  }
 ],
 "metadata": {
  "kernelspec": {
   "display_name": "Python 3 (ipykernel)",
   "language": "python",
   "name": "python3"
  },
  "language_info": {
   "codemirror_mode": {
    "name": "ipython",
    "version": 3
   },
   "file_extension": ".py",
   "mimetype": "text/x-python",
   "name": "python",
   "nbconvert_exporter": "python",
   "pygments_lexer": "ipython3",
   "version": "3.12.8"
  }
 },
 "nbformat": 4,
 "nbformat_minor": 4
}
