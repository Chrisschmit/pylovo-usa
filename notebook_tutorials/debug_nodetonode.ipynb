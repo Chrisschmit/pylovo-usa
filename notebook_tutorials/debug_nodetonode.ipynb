{
 "cells": [
  {
   "cell_type": "code",
   "execution_count": 1,
   "id": "initial_id",
   "metadata": {
    "ExecuteTime": {
     "end_time": "2023-08-18T11:58:32.238155Z",
     "start_time": "2023-08-18T11:58:32.219872700Z"
    }
   },
   "outputs": [],
   "source": [
    "import pandapower as pp\n",
    "\n",
    "from plotting.plot_networks import draw_tree_network\n",
    "from plotting.plot_networks import draw_tree_network_improved_spacing\n",
    "from plotting.plot_networks import plot_simple_grid\n",
    "from src.GridGenerator import GridGenerator"
   ]
  },
  {
   "cell_type": "code",
   "execution_count": 2,
   "id": "9c206146ac4caedb",
   "metadata": {
    "ExecuteTime": {
     "end_time": "2023-08-18T11:58:58.958014700Z",
     "start_time": "2023-08-18T11:58:58.836877800Z"
    },
    "collapsed": false,
    "jupyter": {
     "outputs_hidden": false
    }
   },
   "outputs": [],
   "source": [
    "plz = \"80803\"\n",
    "kcid = 1\n",
    "bcid = 7"
   ]
  },
  {
   "cell_type": "code",
   "execution_count": 3,
   "id": "899a4582f4e75ce4",
   "metadata": {
    "ExecuteTime": {
     "end_time": "2023-08-18T11:59:12.394354500Z",
     "start_time": "2023-08-18T11:59:00.421016800Z"
    },
    "collapsed": false,
    "jupyter": {
     "outputs_hidden": false
    }
   },
   "outputs": [
    {
     "name": "stderr",
     "output_type": "stream",
     "text": [
      "2025-06-12 16:44:40,657 - DatabaseClient - ERROR - Grid not found for plz=80803, kcid=7, bcid=1, version_id=1.0\n"
     ]
    },
    {
     "ename": "ValueError",
     "evalue": "Grid not found for plz=80803, kcid=7, bcid=1",
     "output_type": "error",
     "traceback": [
      "\u001B[0;31m---------------------------------------------------------------------------\u001B[0m",
      "\u001B[0;31mValueError\u001B[0m                                Traceback (most recent call last)",
      "Cell \u001B[0;32mIn[3], line 1\u001B[0m\n\u001B[0;32m----> 1\u001B[0m \u001B[43mplot_simple_grid\u001B[49m\u001B[43m(\u001B[49m\u001B[43mplz\u001B[49m\u001B[43m,\u001B[49m\u001B[43m \u001B[49m\u001B[43mbcid\u001B[49m\u001B[43m,\u001B[49m\u001B[43m \u001B[49m\u001B[43mkcid\u001B[49m\u001B[43m)\u001B[49m\n",
      "File \u001B[0;32m~/git/github/pylovo/plotting/plot_networks.py:107\u001B[0m, in \u001B[0;36mplot_simple_grid\u001B[0;34m(plz, kcid, bcid)\u001B[0m\n\u001B[1;32m    103\u001B[0m \u001B[38;5;28;01mdef\u001B[39;00m\u001B[38;5;250m \u001B[39m\u001B[38;5;21mplot_simple_grid\u001B[39m(plz: \u001B[38;5;28mstr\u001B[39m, kcid: \u001B[38;5;28mint\u001B[39m, bcid: \u001B[38;5;28mint\u001B[39m) \u001B[38;5;241m-\u001B[39m\u001B[38;5;241m>\u001B[39m \u001B[38;5;28;01mNone\u001B[39;00m:\n\u001B[1;32m    104\u001B[0m \u001B[38;5;250m    \u001B[39m\u001B[38;5;124;03m\"\"\"\u001B[39;00m\n\u001B[1;32m    105\u001B[0m \u001B[38;5;124;03m    plots network on a plank base\u001B[39;00m\n\u001B[1;32m    106\u001B[0m \u001B[38;5;124;03m    \"\"\"\u001B[39;00m\n\u001B[0;32m--> 107\u001B[0m     net \u001B[38;5;241m=\u001B[39m \u001B[43mread_net_with_grid_generator\u001B[49m\u001B[43m(\u001B[49m\u001B[43mplz\u001B[49m\u001B[38;5;241;43m=\u001B[39;49m\u001B[43mplz\u001B[49m\u001B[43m,\u001B[49m\u001B[43m \u001B[49m\u001B[43mkcid\u001B[49m\u001B[38;5;241;43m=\u001B[39;49m\u001B[43mkcid\u001B[49m\u001B[43m,\u001B[49m\u001B[43m \u001B[49m\u001B[43mbcid\u001B[49m\u001B[38;5;241;43m=\u001B[39;49m\u001B[43mbcid\u001B[49m\u001B[43m)\u001B[49m\n\u001B[1;32m    108\u001B[0m     simple_plotly(net)\n",
      "File \u001B[0;32m~/git/github/pylovo/plotting/plot_networks.py:29\u001B[0m, in \u001B[0;36mread_net_with_grid_generator\u001B[0;34m(plz, kcid, bcid)\u001B[0m\n\u001B[1;32m     27\u001B[0m gg \u001B[38;5;241m=\u001B[39m GridGenerator(plz\u001B[38;5;241m=\u001B[39mplz)\n\u001B[1;32m     28\u001B[0m dbc_client \u001B[38;5;241m=\u001B[39m gg\u001B[38;5;241m.\u001B[39mdbc\n\u001B[0;32m---> 29\u001B[0m net \u001B[38;5;241m=\u001B[39m \u001B[43mdbc_client\u001B[49m\u001B[38;5;241;43m.\u001B[39;49m\u001B[43mread_net\u001B[49m\u001B[43m(\u001B[49m\u001B[43mplz\u001B[49m\u001B[38;5;241;43m=\u001B[39;49m\u001B[38;5;28;43mstr\u001B[39;49m\u001B[43m(\u001B[49m\u001B[38;5;28;43mint\u001B[39;49m\u001B[43m(\u001B[49m\u001B[43mplz\u001B[49m\u001B[43m)\u001B[49m\u001B[43m)\u001B[49m\u001B[43m,\u001B[49m\u001B[43m \u001B[49m\u001B[43mkcid\u001B[49m\u001B[38;5;241;43m=\u001B[39;49m\u001B[43mkcid\u001B[49m\u001B[43m,\u001B[49m\u001B[43m \u001B[49m\u001B[43mbcid\u001B[49m\u001B[38;5;241;43m=\u001B[39;49m\u001B[43mbcid\u001B[49m\u001B[43m)\u001B[49m\n\u001B[1;32m     30\u001B[0m \u001B[38;5;28;01mreturn\u001B[39;00m net\n",
      "File \u001B[0;32m~/git/github/pylovo/pylovo/database_modules/databaseRead.py:452\u001B[0m, in \u001B[0;36mReadMixin.read_net\u001B[0;34m(self, plz, kcid, bcid)\u001B[0m\n\u001B[1;32m    450\u001B[0m \u001B[38;5;28;01mif\u001B[39;00m \u001B[38;5;129;01mnot\u001B[39;00m result:\n\u001B[1;32m    451\u001B[0m     \u001B[38;5;28mself\u001B[39m\u001B[38;5;241m.\u001B[39mlogger\u001B[38;5;241m.\u001B[39merror(\u001B[38;5;124mf\u001B[39m\u001B[38;5;124m\"\u001B[39m\u001B[38;5;124mGrid not found for plz=\u001B[39m\u001B[38;5;132;01m{\u001B[39;00mplz\u001B[38;5;132;01m}\u001B[39;00m\u001B[38;5;124m, kcid=\u001B[39m\u001B[38;5;132;01m{\u001B[39;00mkcid\u001B[38;5;132;01m}\u001B[39;00m\u001B[38;5;124m, bcid=\u001B[39m\u001B[38;5;132;01m{\u001B[39;00mbcid\u001B[38;5;132;01m}\u001B[39;00m\u001B[38;5;124m, version_id=\u001B[39m\u001B[38;5;132;01m{\u001B[39;00mVERSION_ID\u001B[38;5;132;01m}\u001B[39;00m\u001B[38;5;124m\"\u001B[39m)\n\u001B[0;32m--> 452\u001B[0m     \u001B[38;5;28;01mraise\u001B[39;00m \u001B[38;5;167;01mValueError\u001B[39;00m(\u001B[38;5;124mf\u001B[39m\u001B[38;5;124m\"\u001B[39m\u001B[38;5;124mGrid not found for plz=\u001B[39m\u001B[38;5;132;01m{\u001B[39;00mplz\u001B[38;5;132;01m}\u001B[39;00m\u001B[38;5;124m, kcid=\u001B[39m\u001B[38;5;132;01m{\u001B[39;00mkcid\u001B[38;5;132;01m}\u001B[39;00m\u001B[38;5;124m, bcid=\u001B[39m\u001B[38;5;132;01m{\u001B[39;00mbcid\u001B[38;5;132;01m}\u001B[39;00m\u001B[38;5;124m\"\u001B[39m)\n\u001B[1;32m    454\u001B[0m grid_tuple \u001B[38;5;241m=\u001B[39m result[\u001B[38;5;241m0\u001B[39m]\n\u001B[1;32m    455\u001B[0m grid_dict \u001B[38;5;241m=\u001B[39m grid_tuple[\u001B[38;5;241m0\u001B[39m]\n",
      "\u001B[0;31mValueError\u001B[0m: Grid not found for plz=80803, kcid=7, bcid=1"
     ]
    }
   ],
   "source": [
    "plot_simple_grid(plz, kcid, bcid)"
   ]
  },
  {
   "cell_type": "code",
   "execution_count": null,
   "id": "d7b92ec0c35d52c6",
   "metadata": {
    "ExecuteTime": {
     "end_time": "2023-08-18T11:59:24.241146900Z",
     "start_time": "2023-08-18T11:59:12.372334600Z"
    },
    "collapsed": false,
    "jupyter": {
     "outputs_hidden": false
    }
   },
   "outputs": [],
   "source": [
    "gg = GridGenerator(plz=plz)\n",
    "pg = gg.dbc\n",
    "net = pg.read_net(str(int(plz)), kcid, bcid)\n",
    "G = pp.topology.create_nxgraph(net)\n",
    "draw_tree_network(G)"
   ]
  },
  {
   "cell_type": "code",
   "execution_count": null,
   "id": "ac6add8e20cbbaca",
   "metadata": {
    "ExecuteTime": {
     "end_time": "2023-08-18T11:59:36.712644200Z",
     "start_time": "2023-08-18T11:59:36.349284Z"
    },
    "collapsed": false,
    "jupyter": {
     "outputs_hidden": false
    }
   },
   "outputs": [],
   "source": [
    "draw_tree_network_improved_spacing(G)"
   ]
  },
  {
   "cell_type": "code",
   "execution_count": null,
   "id": "9b84264f14476112",
   "metadata": {
    "ExecuteTime": {
     "end_time": "2023-08-18T12:02:42.978653200Z",
     "start_time": "2023-08-18T12:02:42.257442900Z"
    },
    "collapsed": false,
    "jupyter": {
     "outputs_hidden": false
    }
   },
   "outputs": [],
   "source": [
    "(G.degree(0))"
   ]
  },
  {
   "cell_type": "code",
   "execution_count": null,
   "id": "aff0cf8625d8d3d4",
   "metadata": {
    "ExecuteTime": {
     "end_time": "2023-08-18T12:03:10.188068500Z",
     "start_time": "2023-08-18T12:03:09.468309100Z"
    },
    "collapsed": false,
    "jupyter": {
     "outputs_hidden": false
    }
   },
   "outputs": [],
   "source": [
    "degrees = [val for (node, val) in G.degree()]\n",
    "degrees"
   ]
  },
  {
   "cell_type": "code",
   "execution_count": null,
   "id": "c71827b97a97ca02",
   "metadata": {
    "collapsed": false,
    "jupyter": {
     "outputs_hidden": false
    }
   },
   "outputs": [],
   "source": []
  }
 ],
 "metadata": {
  "kernelspec": {
   "display_name": "Python 3 (ipykernel)",
   "language": "python",
   "name": "python3"
  },
  "language_info": {
   "codemirror_mode": {
    "name": "ipython",
    "version": 3
   },
   "file_extension": ".py",
   "mimetype": "text/x-python",
   "name": "python",
   "nbconvert_exporter": "python",
   "pygments_lexer": "ipython3",
   "version": "3.12.8"
  }
 },
 "nbformat": 4,
 "nbformat_minor": 5
}
