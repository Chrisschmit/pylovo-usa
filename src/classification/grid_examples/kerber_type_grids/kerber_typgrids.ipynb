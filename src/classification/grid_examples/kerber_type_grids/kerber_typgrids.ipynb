{
 "cells": [
  {
   "cell_type": "code",
   "execution_count": 1,
   "id": "12a945924eb43d02",
   "metadata": {
    "collapsed": true,
    "ExecuteTime": {
     "end_time": "2023-11-01T13:06:35.445021500Z",
     "start_time": "2023-11-01T13:06:31.448339800Z"
    }
   },
   "outputs": [],
   "source": [
    "import pandapower as pp\n",
    "import pandapower.networks as pn"
   ]
  },
  {
   "cell_type": "code",
   "execution_count": 2,
   "outputs": [],
   "source": [
    "\n",
    "net_landnetz_freileitung_1 = pn.create_kerber_landnetz_freileitung_1()\n",
    "net_landnetz_freileitung_2 = pn.create_kerber_landnetz_freileitung_2()\n",
    "net_landnetz_kabel_1 = pn.create_kerber_landnetz_kabel_1()\n",
    "net_landnetz_kabel_2 = pn.create_kerber_landnetz_kabel_2()\n",
    "net_dorfnetz = pn.create_kerber_dorfnetz()\n",
    "net_vorstadtnetz_kabel_1 = pn.create_kerber_vorstadtnetz_kabel_1()\n",
    "net_vorstadtnetz_kabel_2 = pn.create_kerber_vorstadtnetz_kabel_2()"
   ],
   "metadata": {
    "collapsed": false,
    "ExecuteTime": {
     "end_time": "2023-11-01T13:06:40.935672Z",
     "start_time": "2023-11-01T13:06:35.448025800Z"
    }
   },
   "id": "967546c9567ba04"
  },
  {
   "cell_type": "code",
   "execution_count": 3,
   "outputs": [
    {
     "name": "stderr",
     "output_type": "stream",
     "text": [
      "C:\\Users\\julzi\\anaconda3\\envs\\pylovo\\lib\\site-packages\\pandapower\\file_io.py:99: FutureWarning: save is not part of the public API, usage can give unexpected results and will be removed in a future version\n",
      "  writer.save()\n"
     ]
    }
   ],
   "source": [
    "\n",
    "pp.to_excel(net_landnetz_freileitung_1, \"net_landnetz_freileitung_1.xlsx\")\n",
    "pp.to_json(net_landnetz_freileitung_1, \"net_landnetz_freileitung_1.json\")"
   ],
   "metadata": {
    "collapsed": false,
    "ExecuteTime": {
     "end_time": "2023-11-01T13:07:05.546528700Z",
     "start_time": "2023-11-01T13:07:05.323327100Z"
    }
   },
   "id": "initial_id"
  },
  {
   "cell_type": "code",
   "execution_count": 4,
   "outputs": [
    {
     "name": "stderr",
     "output_type": "stream",
     "text": [
      "C:\\Users\\julzi\\anaconda3\\envs\\pylovo\\lib\\site-packages\\pandapower\\file_io.py:99: FutureWarning: save is not part of the public API, usage can give unexpected results and will be removed in a future version\n",
      "  writer.save()\n"
     ]
    }
   ],
   "source": [
    "pp.to_excel(net_landnetz_freileitung_2, \"net_landnetz_freileitung_2.xlsx\")\n",
    "pp.to_json(net_landnetz_freileitung_2, \"net_landnetz_freileitung_2.json\")"
   ],
   "metadata": {
    "collapsed": false,
    "ExecuteTime": {
     "end_time": "2023-11-01T13:07:38.866441600Z",
     "start_time": "2023-11-01T13:07:38.667262700Z"
    }
   },
   "id": "8c017caaacb2e6e5"
  },
  {
   "cell_type": "code",
   "execution_count": 5,
   "outputs": [
    {
     "name": "stderr",
     "output_type": "stream",
     "text": [
      "C:\\Users\\julzi\\anaconda3\\envs\\pylovo\\lib\\site-packages\\pandapower\\file_io.py:99: FutureWarning: save is not part of the public API, usage can give unexpected results and will be removed in a future version\n",
      "  writer.save()\n"
     ]
    }
   ],
   "source": [
    "pp.to_excel(net_landnetz_kabel_1, \"net_landnetz_kabel_1.xlsx\")\n",
    "pp.to_json(net_landnetz_kabel_1, \"net_landnetz_kabel_1.json\")"
   ],
   "metadata": {
    "collapsed": false,
    "ExecuteTime": {
     "end_time": "2023-11-01T13:09:32.383665500Z",
     "start_time": "2023-11-01T13:09:31.965293800Z"
    }
   },
   "id": "6b81d908c64e0ef2"
  },
  {
   "cell_type": "code",
   "execution_count": 6,
   "outputs": [
    {
     "name": "stderr",
     "output_type": "stream",
     "text": [
      "C:\\Users\\julzi\\anaconda3\\envs\\pylovo\\lib\\site-packages\\pandapower\\file_io.py:99: FutureWarning: save is not part of the public API, usage can give unexpected results and will be removed in a future version\n",
      "  writer.save()\n"
     ]
    }
   ],
   "source": [
    "pp.to_excel(net_landnetz_kabel_2, \"net_landnetz_kabel_2.xlsx\")\n",
    "pp.to_json(net_landnetz_kabel_2, \"net_landnetz_kabel_2.json\")"
   ],
   "metadata": {
    "collapsed": false,
    "ExecuteTime": {
     "end_time": "2023-11-01T13:09:32.751999300Z",
     "start_time": "2023-11-01T13:09:32.548816200Z"
    }
   },
   "id": "5f131d12c4226afa"
  },
  {
   "cell_type": "code",
   "execution_count": 7,
   "outputs": [
    {
     "name": "stderr",
     "output_type": "stream",
     "text": [
      "C:\\Users\\julzi\\anaconda3\\envs\\pylovo\\lib\\site-packages\\pandapower\\file_io.py:99: FutureWarning: save is not part of the public API, usage can give unexpected results and will be removed in a future version\n",
      "  writer.save()\n"
     ]
    }
   ],
   "source": [
    "pp.to_excel(net_dorfnetz, \"net_dorfnetz.xlsx\")\n",
    "pp.to_json(net_dorfnetz, \"net_dorfnetz.json\")"
   ],
   "metadata": {
    "collapsed": false,
    "ExecuteTime": {
     "end_time": "2023-11-01T13:09:33.392327200Z",
     "start_time": "2023-11-01T13:09:33.118091900Z"
    }
   },
   "id": "7d2ae216905b3495"
  },
  {
   "cell_type": "code",
   "execution_count": 8,
   "outputs": [
    {
     "name": "stderr",
     "output_type": "stream",
     "text": [
      "C:\\Users\\julzi\\anaconda3\\envs\\pylovo\\lib\\site-packages\\pandapower\\file_io.py:99: FutureWarning: save is not part of the public API, usage can give unexpected results and will be removed in a future version\n",
      "  writer.save()\n"
     ]
    }
   ],
   "source": [
    "pp.to_excel(net_vorstadtnetz_kabel_2, \"net_vorstadtnetz_kabel_2.xlsx\")\n",
    "pp.to_json(net_vorstadtnetz_kabel_2, \"net_vorstadtnetz_kabel_2.json\")"
   ],
   "metadata": {
    "collapsed": false,
    "ExecuteTime": {
     "end_time": "2023-11-01T13:09:34.299220800Z",
     "start_time": "2023-11-01T13:09:33.946900100Z"
    }
   },
   "id": "ab505dd6c855978"
  },
  {
   "cell_type": "code",
   "execution_count": 9,
   "outputs": [
    {
     "name": "stderr",
     "output_type": "stream",
     "text": [
      "C:\\Users\\julzi\\anaconda3\\envs\\pylovo\\lib\\site-packages\\pandapower\\file_io.py:99: FutureWarning: save is not part of the public API, usage can give unexpected results and will be removed in a future version\n",
      "  writer.save()\n"
     ]
    }
   ],
   "source": [
    "pp.to_excel(net_vorstadtnetz_kabel_1, \"net_vorstadtnetz_kabel_1.xlsx\")\n",
    "pp.to_json(net_vorstadtnetz_kabel_1, \"net_vorstadtnetz_kabel_1.json\")"
   ],
   "metadata": {
    "collapsed": false,
    "ExecuteTime": {
     "end_time": "2023-11-01T13:09:35.269025500Z",
     "start_time": "2023-11-01T13:09:34.907697400Z"
    }
   },
   "id": "258315a7c6dee9a8"
  },
  {
   "cell_type": "code",
   "execution_count": null,
   "outputs": [],
   "source": [],
   "metadata": {
    "collapsed": false
   },
   "id": "bd9a056ca531f665"
  }
 ],
 "metadata": {
  "kernelspec": {
   "display_name": "Python 3",
   "language": "python",
   "name": "python3"
  },
  "language_info": {
   "codemirror_mode": {
    "name": "ipython",
    "version": 2
   },
   "file_extension": ".py",
   "mimetype": "text/x-python",
   "name": "python",
   "nbconvert_exporter": "python",
   "pygments_lexer": "ipython2",
   "version": "2.7.6"
  }
 },
 "nbformat": 4,
 "nbformat_minor": 5
}
