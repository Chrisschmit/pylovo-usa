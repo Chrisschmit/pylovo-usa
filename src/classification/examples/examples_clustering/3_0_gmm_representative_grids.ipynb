{
 "cells": [
  {
   "cell_type": "markdown",
   "metadata": {
    "collapsed": false
   },
   "source": [
    "# Clustering algorithm:  gmm\n",
    "compare the clustering algorithm with different amount of parameters"
   ]
  },
  {
   "cell_type": "code",
   "metadata": {
    "collapsed": false
   },
   "source": [
    "import warnings\n",
    "import os\n",
    "import sys\n",
    "\n",
    "PROJECT_ROOT = os.path.abspath(os.path.join(os.getcwd(), \"../../..\")) # Determine the project's root directory\n",
    "sys.path.append(PROJECT_ROOT) # Add the project root directory to Python's module search path.\n",
    "\n",
    "\n",
    "from src.classification.clustering.clustering_algorithms import gmm_tied_clustering\n",
    "from src.config_loader import *\n",
    "from src.classification.database_communication.DatabaseCommunication import DatabaseCommunication\n",
    "from plotting.plot_networks import *\n",
    "from plotting.plotting_classification import plot_radar_graph\n",
    "from src.GridGenerator import GridGenerator\n",
    "\n",
    "warnings.filterwarnings('ignore')"
   ],
   "outputs": [],
   "execution_count": null
  },
  {
   "cell_type": "markdown",
   "metadata": {
    "collapsed": false
   },
   "source": [
    "Import grid parameter data and cluster"
   ]
  },
  {
   "cell_type": "code",
   "metadata": {
    "collapsed": false
   },
   "source": [
    "gg = GridGenerator(plz='80639')\n",
    "pg = gg.pgr"
   ],
   "outputs": [],
   "execution_count": null
  },
  {
   "cell_type": "code",
   "metadata": {
    "collapsed": false
   },
   "source": [
    "dc = DatabaseCommunication()\n",
    "df_parameters_of_grids = dc.get_clustering_parameters_for_classification_version()"
   ],
   "outputs": [],
   "execution_count": null
  },
  {
   "cell_type": "code",
   "metadata": {
    "collapsed": false
   },
   "source": [
    "df_parameters_of_grids, representative_networks = gmm_tied_clustering(df_parameters_of_grids=df_parameters_of_grids,\n",
    "                                                                      list_of_clustering_parameters=LIST_OF_CLUSTERING_PARAMETERS,\n",
    "                                                                      n_clusters=N_CLUSTERS_GMM)"
   ],
   "outputs": [],
   "execution_count": null
  },
  {
   "cell_type": "markdown",
   "metadata": {
    "collapsed": false
   },
   "source": [
    "## Radar Plot\n",
    "Compare the representative grids in terms of the clustering parameters. Which parameter dominates in the representative grid?"
   ]
  },
  {
   "cell_type": "code",
   "metadata": {
    "collapsed": false
   },
   "source": [
    "plot_radar_graph(representative_networks=representative_networks, list_of_parameters=LIST_OF_CLUSTERING_PARAMETERS)"
   ],
   "outputs": [],
   "execution_count": null
  },
  {
   "cell_type": "code",
   "metadata": {
    "collapsed": false
   },
   "source": [
    "representative_networks.iloc[:, [3, 4, 5, 7, 8, 9, 10, 12, 13, 14, 15, 16, 17, 18, 19, 20, 22, 26, 27]].T"
   ],
   "outputs": [],
   "execution_count": null
  },
  {
   "cell_type": "markdown",
   "metadata": {
    "collapsed": false
   },
   "source": [
    "## 0th grid"
   ]
  },
  {
   "cell_type": "code",
   "metadata": {
    "collapsed": false
   },
   "source": [
    "plz, kcid, bcid = get_network_info_for_plotting(representative_networks.iloc[0])\n",
    "plot_simple_grid(plz, bcid=bcid, kcid=kcid)"
   ],
   "outputs": [],
   "execution_count": null
  },
  {
   "cell_type": "code",
   "metadata": {
    "collapsed": false
   },
   "source": [
    "plot_with_generic_coordinates(plz, bcid=bcid, kcid=kcid)"
   ],
   "outputs": [],
   "execution_count": null
  },
  {
   "cell_type": "code",
   "metadata": {
    "collapsed": false
   },
   "source": [
    "plz_str = int(representative_networks.iloc[0]['plz'])\n",
    "df_register = pg.get_municipal_register_for_plz(plz_str)\n",
    "df_register"
   ],
   "outputs": [],
   "execution_count": null
  },
  {
   "cell_type": "markdown",
   "metadata": {
    "collapsed": false
   },
   "source": [
    "## first grid"
   ]
  },
  {
   "cell_type": "code",
   "metadata": {
    "collapsed": false
   },
   "source": [
    "plz, kcid, bcid = get_network_info_for_plotting(representative_networks.iloc[1])\n",
    "plot_simple_grid(plz, bcid=bcid, kcid=kcid)"
   ],
   "outputs": [],
   "execution_count": null
  },
  {
   "cell_type": "code",
   "metadata": {
    "collapsed": false
   },
   "source": [
    "plot_with_generic_coordinates(plz, bcid=bcid, kcid=kcid)"
   ],
   "outputs": [],
   "execution_count": null
  },
  {
   "cell_type": "code",
   "metadata": {
    "collapsed": false
   },
   "source": [
    "plz_str = int(representative_networks.iloc[1]['plz'])\n",
    "df_register = pg.get_municipal_register_for_plz(plz_str)\n",
    "df_register"
   ],
   "outputs": [],
   "execution_count": null
  },
  {
   "cell_type": "markdown",
   "metadata": {
    "collapsed": false
   },
   "source": [
    "## second grid"
   ]
  },
  {
   "cell_type": "code",
   "metadata": {
    "collapsed": false
   },
   "source": [
    "plz, kcid, bcid = get_network_info_for_plotting(representative_networks.iloc[2])\n",
    "plot_simple_grid(plz, bcid=bcid, kcid=kcid)"
   ],
   "outputs": [],
   "execution_count": null
  },
  {
   "cell_type": "code",
   "metadata": {
    "collapsed": false
   },
   "source": [
    "plot_with_generic_coordinates(plz, bcid=bcid, kcid=kcid)"
   ],
   "outputs": [],
   "execution_count": null
  },
  {
   "cell_type": "code",
   "metadata": {
    "collapsed": false
   },
   "source": [
    "plz_str = int(representative_networks.iloc[2]['plz'])\n",
    "df_register = pg.get_municipal_register_for_plz(plz_str)\n",
    "df_register"
   ],
   "outputs": [],
   "execution_count": null
  },
  {
   "cell_type": "markdown",
   "metadata": {
    "collapsed": false
   },
   "source": [
    "## third grid"
   ]
  },
  {
   "cell_type": "code",
   "metadata": {
    "collapsed": false
   },
   "source": [
    "plz, kcid, bcid = get_network_info_for_plotting(representative_networks.iloc[3])\n",
    "plot_simple_grid(plz, bcid=bcid, kcid=kcid)"
   ],
   "outputs": [],
   "execution_count": null
  },
  {
   "cell_type": "code",
   "metadata": {
    "collapsed": false
   },
   "source": [
    "plot_with_generic_coordinates(plz, bcid=bcid, kcid=kcid)"
   ],
   "outputs": [],
   "execution_count": null
  },
  {
   "cell_type": "code",
   "metadata": {
    "collapsed": false
   },
   "source": [
    "plz_str = int(representative_networks.iloc[3]['plz'])\n",
    "df_register = pg.get_municipal_register_for_plz(plz_str)\n",
    "df_register"
   ],
   "outputs": [],
   "execution_count": null
  },
  {
   "cell_type": "code",
   "metadata": {
    "collapsed": false
   },
   "source": [],
   "outputs": [],
   "execution_count": null
  }
 ],
 "metadata": {
  "kernelspec": {
   "display_name": "pylovo-env-3-12",
   "language": "python",
   "name": "python3"
  },
  "language_info": {
   "codemirror_mode": {
    "name": "ipython",
    "version": 3
   },
   "file_extension": ".py",
   "mimetype": "text/x-python",
   "name": "python",
   "nbconvert_exporter": "python",
   "pygments_lexer": "ipython3",
   "version": "3.12.3"
  }
 },
 "nbformat": 4,
 "nbformat_minor": 0
}
