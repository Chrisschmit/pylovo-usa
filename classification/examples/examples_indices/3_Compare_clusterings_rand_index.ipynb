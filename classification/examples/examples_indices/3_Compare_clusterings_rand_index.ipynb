{
 "cells": [
  {
   "cell_type": "markdown",
   "source": [
    "# Adjusted Random Score\n",
    "\n",
    "'Rand index adjusted for chance.\n",
    "\n",
    "The Rand Index computes a similarity measure between two clusterings by considering all pairs of samples and counting pairs that are assigned in the same or different clusters in the predicted and true clusterings.'\n",
    "\n",
    "How different are the clusterings with different algorithms?"
   ],
   "metadata": {
    "collapsed": false
   },
   "id": "1edbdea08c0394e3"
  },
  {
   "cell_type": "code",
   "execution_count": 6,
   "id": "f9eede52ca19df66",
   "metadata": {
    "collapsed": true,
    "ExecuteTime": {
     "end_time": "2023-10-13T10:23:22.766766100Z",
     "start_time": "2023-10-13T10:23:22.625502200Z"
    }
   },
   "outputs": [],
   "source": [
    "import warnings\n",
    "\n",
    "from sklearn.metrics.cluster import adjusted_rand_score\n",
    "\n",
    "from classification.clustering.clustering_algorithms import *\n",
    "from classification.clustering.config_clustering import *\n",
    "from classification.database_communication.DatabaseCommunication import DatabaseCommunication\n",
    "from syngrid.GridGenerator import GridGenerator"
   ]
  },
  {
   "cell_type": "code",
   "execution_count": 0,
   "outputs": [],
   "source": [
    "\n",
    "gg = GridGenerator(plz='80639')\n",
    "pg = gg.pgr\n",
    "\n",
    "warnings.filterwarnings('ignore')"
   ],
   "metadata": {
    "collapsed": false
   },
   "id": "12141a8639416cf5"
  },
  {
   "cell_type": "code",
   "execution_count": 7,
   "outputs": [
    {
     "name": "stdout",
     "output_type": "stream",
     "text": [
      "Database connection is constructed. \n",
      "Database connection closed.\n"
     ]
    }
   ],
   "source": [
    "\n",
    "dc = DatabaseCommunication()\n",
    "df_parameters_of_grids = dc.get_clustering_parameters_for_classification_version()\n",
    "df_parameters_of_grids_kmeans, representative_networks_kmeans = kmeans_clustering(\n",
    "    df_parameters_of_grids=df_parameters_of_grids,\n",
    "    list_of_clustering_parameters=LIST_OF_CLUSTERING_PARAMETERS,\n",
    "    n_clusters=N_CLUSTERS_KMEANS)"
   ],
   "metadata": {
    "collapsed": false,
    "ExecuteTime": {
     "end_time": "2023-10-13T10:24:13.233260500Z",
     "start_time": "2023-10-13T10:24:06.603666100Z"
    }
   },
   "id": "1a99fd17d066d7ff"
  },
  {
   "cell_type": "code",
   "execution_count": 8,
   "outputs": [],
   "source": [
    "df_parameters_of_grids_kmedoids, representative_networks_kmedoids = kmedoids_clustering(\n",
    "    df_parameters_of_grids=df_parameters_of_grids,\n",
    "    list_of_clustering_parameters=LIST_OF_CLUSTERING_PARAMETERS,\n",
    "    n_clusters=N_CLUSTERS_KMEDOID)"
   ],
   "metadata": {
    "collapsed": false,
    "ExecuteTime": {
     "end_time": "2023-10-13T10:24:14.609046700Z",
     "start_time": "2023-10-13T10:24:13.233260500Z"
    }
   },
   "id": "e2be1d32e3c6b0af"
  },
  {
   "cell_type": "code",
   "execution_count": 9,
   "outputs": [
    {
     "name": "stdout",
     "output_type": "stream",
     "text": [
      "converged: True\n",
      "no of iterations 13\n"
     ]
    }
   ],
   "source": [
    "df_parameters_of_grids_gmm, representative_networks_gmm = gmm_tied_clustering(\n",
    "    df_parameters_of_grids=df_parameters_of_grids,\n",
    "    list_of_clustering_parameters=LIST_OF_CLUSTERING_PARAMETERS,\n",
    "    n_clusters=N_CLUSTERS_GMM)\n",
    "\n"
   ],
   "metadata": {
    "collapsed": false,
    "ExecuteTime": {
     "end_time": "2023-10-13T10:24:14.687119100Z",
     "start_time": "2023-10-13T10:24:14.611051400Z"
    }
   },
   "id": "initial_id"
  },
  {
   "cell_type": "code",
   "execution_count": 10,
   "outputs": [
    {
     "data": {
      "text/plain": "0.7123686322374309"
     },
     "execution_count": 10,
     "metadata": {},
     "output_type": "execute_result"
    }
   ],
   "source": [
    "adjusted_rand_score(df_parameters_of_grids_kmeans['clusters'], df_parameters_of_grids_kmedoids['clusters'])"
   ],
   "metadata": {
    "collapsed": false,
    "ExecuteTime": {
     "end_time": "2023-10-13T10:24:14.748681900Z",
     "start_time": "2023-10-13T10:24:14.691123Z"
    }
   },
   "id": "7eb1bbd3cdb5bb56"
  },
  {
   "cell_type": "code",
   "execution_count": 11,
   "outputs": [
    {
     "data": {
      "text/plain": "0.5001509820035602"
     },
     "execution_count": 11,
     "metadata": {},
     "output_type": "execute_result"
    }
   ],
   "source": [
    "adjusted_rand_score(df_parameters_of_grids_kmeans['clusters'], df_parameters_of_grids_gmm['clusters'])"
   ],
   "metadata": {
    "collapsed": false,
    "ExecuteTime": {
     "end_time": "2023-10-13T10:24:22.057094600Z",
     "start_time": "2023-10-13T10:24:22.030568Z"
    }
   },
   "id": "6f7a4353eff9834d"
  },
  {
   "cell_type": "code",
   "execution_count": 12,
   "outputs": [
    {
     "data": {
      "text/plain": "0.4070792653156588"
     },
     "execution_count": 12,
     "metadata": {},
     "output_type": "execute_result"
    }
   ],
   "source": [
    "adjusted_rand_score(df_parameters_of_grids_kmedoids['clusters'], df_parameters_of_grids_gmm['clusters'])"
   ],
   "metadata": {
    "collapsed": false,
    "ExecuteTime": {
     "end_time": "2023-10-13T10:24:34.712174600Z",
     "start_time": "2023-10-13T10:24:34.499288300Z"
    }
   },
   "id": "cfaf39e33401a31c"
  },
  {
   "cell_type": "code",
   "execution_count": null,
   "outputs": [],
   "source": [],
   "metadata": {
    "collapsed": false
   },
   "id": "15e2ada8231163e9"
  }
 ],
 "metadata": {
  "kernelspec": {
   "display_name": "Python 3",
   "language": "python",
   "name": "python3"
  },
  "language_info": {
   "codemirror_mode": {
    "name": "ipython",
    "version": 2
   },
   "file_extension": ".py",
   "mimetype": "text/x-python",
   "name": "python",
   "nbconvert_exporter": "python",
   "pygments_lexer": "ipython2",
   "version": "2.7.6"
  }
 },
 "nbformat": 4,
 "nbformat_minor": 5
}
