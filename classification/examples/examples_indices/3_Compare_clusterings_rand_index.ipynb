{
 "cells": [
  {
   "cell_type": "markdown",
   "id": "1edbdea08c0394e3",
   "metadata": {
    "collapsed": false
   },
   "source": [
    "# Adjusted Random Score\n",
    "\n",
    "'Rand index adjusted for chance.\n",
    "\n",
    "The Rand Index computes a similarity measure between two clusterings by considering all pairs of samples and counting pairs that are assigned in the same or different clusters in the predicted and true clusterings.'\n",
    "\n",
    "How different are the clusterings with different algorithms?"
   ]
  },
  {
   "cell_type": "code",
   "execution_count": 1,
   "id": "f9eede52ca19df66",
   "metadata": {
    "ExecuteTime": {
     "end_time": "2023-10-13T10:23:22.766766100Z",
     "start_time": "2023-10-13T10:23:22.625502200Z"
    },
    "collapsed": true
   },
   "outputs": [],
   "source": [
    "import warnings\n",
    "import os\n",
    "import sys\n",
    "\n",
    "PROJECT_ROOT = os.path.abspath(os.path.join(os.getcwd(), \"../../..\")) # Determine the project's root directory\n",
    "sys.path.append(PROJECT_ROOT) # Add the project root directory to Python's module search path.\n",
    "\n",
    "from sklearn.metrics.cluster import adjusted_rand_score\n",
    "\n",
    "from classification.clustering.clustering_algorithms import *\n",
    "from classification.clustering.config_clustering import *\n",
    "from classification.database_communication.DatabaseCommunication import DatabaseCommunication\n",
    "from pylovo.GridGenerator import GridGenerator"
   ]
  },
  {
   "cell_type": "code",
   "execution_count": 2,
   "id": "12141a8639416cf5",
   "metadata": {
    "collapsed": false
   },
   "outputs": [],
   "source": [
    "\n",
    "gg = GridGenerator(plz='80639')\n",
    "pg = gg.pgr\n",
    "\n",
    "warnings.filterwarnings('ignore')"
   ]
  },
  {
   "cell_type": "code",
   "execution_count": 3,
   "id": "1a99fd17d066d7ff",
   "metadata": {
    "ExecuteTime": {
     "end_time": "2023-10-13T10:24:13.233260500Z",
     "start_time": "2023-10-13T10:24:06.603666100Z"
    },
    "collapsed": false
   },
   "outputs": [
    {
     "name": "stdout",
     "output_type": "stream",
     "text": [
      "Database connection is constructed. \n"
     ]
    }
   ],
   "source": [
    "\n",
    "dc = DatabaseCommunication()\n",
    "df_parameters_of_grids = dc.get_clustering_parameters_for_classification_version()\n",
    "df_parameters_of_grids_kmeans, representative_networks_kmeans = kmeans_clustering(\n",
    "    df_parameters_of_grids=df_parameters_of_grids,\n",
    "    list_of_clustering_parameters=LIST_OF_CLUSTERING_PARAMETERS,\n",
    "    n_clusters=N_CLUSTERS_KMEANS)"
   ]
  },
  {
   "cell_type": "code",
   "execution_count": 4,
   "id": "e2be1d32e3c6b0af",
   "metadata": {
    "ExecuteTime": {
     "end_time": "2023-10-13T10:24:14.609046700Z",
     "start_time": "2023-10-13T10:24:13.233260500Z"
    },
    "collapsed": false
   },
   "outputs": [],
   "source": [
    "df_parameters_of_grids_kmedoids, representative_networks_kmedoids = kmedoids_clustering(\n",
    "    df_parameters_of_grids=df_parameters_of_grids,\n",
    "    list_of_clustering_parameters=LIST_OF_CLUSTERING_PARAMETERS,\n",
    "    n_clusters=N_CLUSTERS_KMEDOID)"
   ]
  },
  {
   "cell_type": "code",
   "execution_count": 5,
   "id": "initial_id",
   "metadata": {
    "ExecuteTime": {
     "end_time": "2023-10-13T10:24:14.687119100Z",
     "start_time": "2023-10-13T10:24:14.611051400Z"
    },
    "collapsed": false
   },
   "outputs": [
    {
     "name": "stdout",
     "output_type": "stream",
     "text": [
      "converged: True\n",
      "no of iterations 15\n"
     ]
    }
   ],
   "source": [
    "df_parameters_of_grids_gmm, representative_networks_gmm = gmm_tied_clustering(\n",
    "    df_parameters_of_grids=df_parameters_of_grids,\n",
    "    list_of_clustering_parameters=LIST_OF_CLUSTERING_PARAMETERS,\n",
    "    n_clusters=N_CLUSTERS_GMM)\n",
    "\n"
   ]
  },
  {
   "cell_type": "code",
   "execution_count": 6,
   "id": "7eb1bbd3cdb5bb56",
   "metadata": {
    "ExecuteTime": {
     "end_time": "2023-10-13T10:24:14.748681900Z",
     "start_time": "2023-10-13T10:24:14.691123Z"
    },
    "collapsed": false
   },
   "outputs": [
    {
     "data": {
      "text/plain": [
       "0.4829840359942837"
      ]
     },
     "execution_count": 6,
     "metadata": {},
     "output_type": "execute_result"
    }
   ],
   "source": [
    "adjusted_rand_score(df_parameters_of_grids_kmeans['clusters'], df_parameters_of_grids_kmedoids['clusters'])"
   ]
  },
  {
   "cell_type": "code",
   "execution_count": 7,
   "id": "6f7a4353eff9834d",
   "metadata": {
    "ExecuteTime": {
     "end_time": "2023-10-13T10:24:22.057094600Z",
     "start_time": "2023-10-13T10:24:22.030568Z"
    },
    "collapsed": false
   },
   "outputs": [
    {
     "data": {
      "text/plain": [
       "0.5556802692857316"
      ]
     },
     "execution_count": 7,
     "metadata": {},
     "output_type": "execute_result"
    }
   ],
   "source": [
    "adjusted_rand_score(df_parameters_of_grids_kmeans['clusters'], df_parameters_of_grids_gmm['clusters'])"
   ]
  },
  {
   "cell_type": "code",
   "execution_count": 8,
   "id": "cfaf39e33401a31c",
   "metadata": {
    "ExecuteTime": {
     "end_time": "2023-10-13T10:24:34.712174600Z",
     "start_time": "2023-10-13T10:24:34.499288300Z"
    },
    "collapsed": false
   },
   "outputs": [
    {
     "data": {
      "text/plain": [
       "0.39000128491648456"
      ]
     },
     "execution_count": 8,
     "metadata": {},
     "output_type": "execute_result"
    }
   ],
   "source": [
    "adjusted_rand_score(df_parameters_of_grids_kmedoids['clusters'], df_parameters_of_grids_gmm['clusters'])"
   ]
  },
  {
   "cell_type": "code",
   "execution_count": null,
   "id": "15e2ada8231163e9",
   "metadata": {
    "collapsed": false
   },
   "outputs": [],
   "source": []
  }
 ],
 "metadata": {
  "interpreter": {
   "hash": "707ab886c1afad52ac8d551451251c4de712c6918604af17f6b2c80a6a3c23b9"
  },
  "kernelspec": {
   "display_name": "Python 3.12.3 ('pylovo-env-3-12': venv)",
   "language": "python",
   "name": "python3"
  },
  "language_info": {
   "codemirror_mode": {
    "name": "ipython",
    "version": 3
   },
   "file_extension": ".py",
   "mimetype": "text/x-python",
   "name": "python",
   "nbconvert_exporter": "python",
   "pygments_lexer": "ipython3",
   "version": "3.12.3"
  }
 },
 "nbformat": 4,
 "nbformat_minor": 5
}
