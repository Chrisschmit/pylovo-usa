{
 "cells": [
  {
   "cell_type": "markdown",
   "source": [
    "# Clustering algorithm:  kmedoids\n",
    "visualise the representative grids"
   ],
   "metadata": {
    "collapsed": false
   }
  },
  {
   "cell_type": "code",
   "execution_count": 1,
   "outputs": [
    {
     "ename": "ModuleNotFoundError",
     "evalue": "No module named 'sklearn_extra'",
     "output_type": "error",
     "traceback": [
      "\u001B[1;31m---------------------------------------------------------------------------\u001B[0m",
      "\u001B[1;31mModuleNotFoundError\u001B[0m                       Traceback (most recent call last)",
      "Cell \u001B[1;32mIn[1], line 3\u001B[0m\n\u001B[0;32m      1\u001B[0m \u001B[38;5;28;01mimport\u001B[39;00m \u001B[38;5;21;01mwarnings\u001B[39;00m\n\u001B[1;32m----> 3\u001B[0m \u001B[38;5;28;01mfrom\u001B[39;00m \u001B[38;5;21;01mclassification\u001B[39;00m\u001B[38;5;21;01m.\u001B[39;00m\u001B[38;5;21;01mclustering\u001B[39;00m\u001B[38;5;21;01m.\u001B[39;00m\u001B[38;5;21;01mclustering_algorithms\u001B[39;00m \u001B[38;5;28;01mimport\u001B[39;00m kmedoids_clustering\n\u001B[0;32m      4\u001B[0m \u001B[38;5;28;01mfrom\u001B[39;00m \u001B[38;5;21;01mclassification\u001B[39;00m\u001B[38;5;21;01m.\u001B[39;00m\u001B[38;5;21;01mclustering\u001B[39;00m\u001B[38;5;21;01m.\u001B[39;00m\u001B[38;5;21;01mconfig_clustering\u001B[39;00m \u001B[38;5;28;01mimport\u001B[39;00m \u001B[38;5;241m*\u001B[39m\n\u001B[0;32m      5\u001B[0m \u001B[38;5;28;01mfrom\u001B[39;00m \u001B[38;5;21;01mclassification\u001B[39;00m\u001B[38;5;21;01m.\u001B[39;00m\u001B[38;5;21;01mdatabase_communication\u001B[39;00m\u001B[38;5;21;01m.\u001B[39;00m\u001B[38;5;21;01mDatabaseCommunication\u001B[39;00m \u001B[38;5;28;01mimport\u001B[39;00m DatabaseCommunication\n",
      "File \u001B[1;32mF:\\Desktop\\pylovo_gitlab\\pylovo\\classification\\clustering\\clustering_algorithms.py:6\u001B[0m\n\u001B[0;32m      4\u001B[0m \u001B[38;5;28;01mfrom\u001B[39;00m \u001B[38;5;21;01msklearn\u001B[39;00m\u001B[38;5;21;01m.\u001B[39;00m\u001B[38;5;21;01mcluster\u001B[39;00m \u001B[38;5;28;01mimport\u001B[39;00m KMeans\n\u001B[0;32m      5\u001B[0m \u001B[38;5;28;01mfrom\u001B[39;00m \u001B[38;5;21;01msklearn\u001B[39;00m\u001B[38;5;21;01m.\u001B[39;00m\u001B[38;5;21;01mmixture\u001B[39;00m \u001B[38;5;28;01mimport\u001B[39;00m GaussianMixture\n\u001B[1;32m----> 6\u001B[0m \u001B[38;5;28;01mfrom\u001B[39;00m \u001B[38;5;21;01msklearn_extra\u001B[39;00m\u001B[38;5;21;01m.\u001B[39;00m\u001B[38;5;21;01mcluster\u001B[39;00m \u001B[38;5;28;01mimport\u001B[39;00m KMedoids\n\u001B[0;32m      9\u001B[0m \u001B[38;5;28;01mdef\u001B[39;00m \u001B[38;5;21mreindex_cluster_indices\u001B[39m(df_parameters_of_grids: pd\u001B[38;5;241m.\u001B[39mDataFrame, representative_networks: pd\u001B[38;5;241m.\u001B[39mDataFrame) \u001B[38;5;241m-\u001B[39m\u001B[38;5;241m>\u001B[39m (\n\u001B[0;32m     10\u001B[0m         pd\u001B[38;5;241m.\u001B[39mDataFrame, pd\u001B[38;5;241m.\u001B[39mDataFrame):\n\u001B[0;32m     11\u001B[0m \u001B[38;5;250m    \u001B[39m\u001B[38;5;124;03m\"\"\"sort the cluster indices by the representatives networks number of households ascending.\u001B[39;00m\n\u001B[0;32m     12\u001B[0m \u001B[38;5;124;03m    this means the representative grid of cluster index 0 has the least number of households\u001B[39;00m\n\u001B[0;32m     13\u001B[0m \n\u001B[1;32m   (...)\u001B[0m\n\u001B[0;32m     24\u001B[0m \u001B[38;5;124;03m    :rtype: pd.DataFrame\u001B[39;00m\n\u001B[0;32m     25\u001B[0m \u001B[38;5;124;03m    \"\"\"\u001B[39;00m\n",
      "\u001B[1;31mModuleNotFoundError\u001B[0m: No module named 'sklearn_extra'"
     ]
    }
   ],
   "source": [
    "import warnings\n",
    "\n",
    "from classification.clustering.clustering_algorithms import kmedoids_clustering\n",
    "from classification.clustering.config_clustering import *\n",
    "from classification.database_communication.DatabaseCommunication import DatabaseCommunication\n",
    "from plotting.plot_networks import *\n",
    "from plotting.plotting_classification import plot_radar_graph\n",
    "from syngrid.GridGenerator import GridGenerator\n",
    "\n",
    "warnings.filterwarnings('ignore')"
   ],
   "metadata": {
    "collapsed": false,
    "ExecuteTime": {
     "end_time": "2023-11-10T09:08:13.071060400Z",
     "start_time": "2023-11-10T09:08:09.284656700Z"
    }
   }
  },
  {
   "cell_type": "markdown",
   "source": [
    "Prepare data and calculate the clusters"
   ],
   "metadata": {
    "collapsed": false
   }
  },
  {
   "cell_type": "code",
   "execution_count": null,
   "outputs": [],
   "source": [
    "gg = GridGenerator(plz='80639')\n",
    "pg = gg.pgr"
   ],
   "metadata": {
    "collapsed": false,
    "ExecuteTime": {
     "start_time": "2023-11-10T09:08:13.056045600Z"
    }
   }
  },
  {
   "cell_type": "code",
   "execution_count": null,
   "outputs": [],
   "source": [
    "dc = DatabaseCommunication()\n",
    "df_parameters_of_grids = dc.get_clustering_parameters_for_classification_version()"
   ],
   "metadata": {
    "collapsed": false,
    "ExecuteTime": {
     "start_time": "2023-11-10T09:08:13.059050100Z"
    }
   }
  },
  {
   "cell_type": "code",
   "execution_count": null,
   "outputs": [],
   "source": [
    "df_parameters_of_grids, representative_networks = kmedoids_clustering(df_parameters_of_grids=df_parameters_of_grids,\n",
    "                                                                      list_of_clustering_parameters=LIST_OF_CLUSTERING_PARAMETERS,\n",
    "                                                                      n_clusters=N_CLUSTERS_KMEDOID)"
   ],
   "metadata": {
    "collapsed": false,
    "ExecuteTime": {
     "start_time": "2023-11-10T09:08:13.062052200Z"
    }
   }
  },
  {
   "cell_type": "markdown",
   "source": [
    "## Radar Plot\n",
    "Compare the representative grids in terms of the clustering parameters. Which parameter dominates in the representative grid?"
   ],
   "metadata": {
    "collapsed": false
   }
  },
  {
   "cell_type": "code",
   "execution_count": null,
   "outputs": [],
   "source": [
    "plot_radar_graph(representative_networks=representative_networks, list_of_parameters=LIST_OF_CLUSTERING_PARAMETERS)"
   ],
   "metadata": {
    "collapsed": false,
    "ExecuteTime": {
     "start_time": "2023-11-10T09:08:13.065053800Z"
    }
   }
  },
  {
   "cell_type": "markdown",
   "source": [
    "The parameters of the representative grids"
   ],
   "metadata": {
    "collapsed": false
   }
  },
  {
   "cell_type": "code",
   "execution_count": null,
   "outputs": [],
   "source": [
    "list(representative_networks['index'])"
   ],
   "metadata": {
    "collapsed": false,
    "ExecuteTime": {
     "start_time": "2023-11-10T09:08:13.067055900Z"
    }
   }
  },
  {
   "cell_type": "code",
   "execution_count": null,
   "outputs": [],
   "source": [
    "\n",
    "representative_networks.iloc[:, [3, 4, 5, 7, 8, 9, 10, 12, 13, 14, 15, 16, 17, 18, 19, 20, 22, 26, 27]].T"
   ],
   "metadata": {
    "collapsed": false,
    "ExecuteTime": {
     "start_time": "2023-11-10T09:08:13.070058500Z"
    }
   }
  },
  {
   "cell_type": "markdown",
   "source": [
    "## Plotting the Representative Grids\n",
    "## 0th grid"
   ],
   "metadata": {
    "collapsed": false
   }
  },
  {
   "cell_type": "code",
   "execution_count": null,
   "outputs": [],
   "source": [
    "plz, kcid, bcid = get_network_info_for_plotting(representative_networks.iloc[0])\n",
    "plot_simple_grid(plz, bcid=bcid, kcid=kcid)"
   ],
   "metadata": {
    "collapsed": false,
    "ExecuteTime": {
     "end_time": "2023-11-10T09:08:13.072060700Z",
     "start_time": "2023-11-10T09:08:13.072060700Z"
    }
   }
  },
  {
   "cell_type": "code",
   "execution_count": null,
   "outputs": [],
   "source": [
    "plot_with_generic_coordinates(plz, bcid=bcid, kcid=kcid)"
   ],
   "metadata": {
    "collapsed": false,
    "ExecuteTime": {
     "start_time": "2023-11-10T09:08:13.075064500Z"
    }
   }
  },
  {
   "cell_type": "code",
   "execution_count": null,
   "outputs": [],
   "source": [
    "plz_str = (representative_networks.iloc[0]['plz'])\n",
    "df_register = pg.get_municipal_register_for_plz(plz_str)\n",
    "df_register"
   ],
   "metadata": {
    "collapsed": false,
    "ExecuteTime": {
     "start_time": "2023-11-10T09:08:13.077066400Z"
    }
   }
  },
  {
   "cell_type": "markdown",
   "source": [
    "## first grid"
   ],
   "metadata": {
    "collapsed": false
   }
  },
  {
   "cell_type": "code",
   "execution_count": null,
   "outputs": [],
   "source": [
    "plz, kcid, bcid = get_network_info_for_plotting(representative_networks.iloc[1])\n",
    "plot_simple_grid(plz, bcid=bcid, kcid=kcid)"
   ],
   "metadata": {
    "collapsed": false,
    "ExecuteTime": {
     "start_time": "2023-11-10T09:08:13.080068900Z"
    }
   }
  },
  {
   "cell_type": "code",
   "execution_count": null,
   "outputs": [],
   "source": [
    "plot_with_generic_coordinates(plz, bcid=bcid, kcid=kcid)"
   ],
   "metadata": {
    "collapsed": false,
    "ExecuteTime": {
     "start_time": "2023-11-10T09:08:13.082069900Z"
    }
   }
  },
  {
   "cell_type": "code",
   "execution_count": null,
   "outputs": [],
   "source": [
    "plz_str = (representative_networks.iloc[1]['plz'])\n",
    "df_register = pg.get_municipal_register_for_plz(plz_str)\n",
    "df_register"
   ],
   "metadata": {
    "collapsed": false,
    "ExecuteTime": {
     "start_time": "2023-11-10T09:08:13.085073500Z"
    }
   }
  },
  {
   "cell_type": "markdown",
   "source": [
    "## second grid"
   ],
   "metadata": {
    "collapsed": false
   }
  },
  {
   "cell_type": "code",
   "execution_count": null,
   "outputs": [],
   "source": [
    "plz, kcid, bcid = get_network_info_for_plotting(representative_networks.iloc[2])\n",
    "plot_simple_grid(plz, bcid=bcid, kcid=kcid)"
   ],
   "metadata": {
    "collapsed": false,
    "ExecuteTime": {
     "start_time": "2023-11-10T09:08:13.088075600Z"
    }
   }
  },
  {
   "cell_type": "code",
   "execution_count": null,
   "outputs": [],
   "source": [
    "plot_with_generic_coordinates(plz, bcid=bcid, kcid=kcid)"
   ],
   "metadata": {
    "collapsed": false,
    "ExecuteTime": {
     "start_time": "2023-11-10T09:08:13.090076700Z"
    }
   }
  },
  {
   "cell_type": "code",
   "execution_count": null,
   "outputs": [],
   "source": [
    "plz_str = (representative_networks.iloc[2]['plz'])\n",
    "df_register = pg.get_municipal_register_for_plz(plz_str)\n",
    "df_register"
   ],
   "metadata": {
    "collapsed": false,
    "ExecuteTime": {
     "start_time": "2023-11-10T09:08:13.092078500Z"
    }
   }
  },
  {
   "cell_type": "markdown",
   "source": [
    "## third grid"
   ],
   "metadata": {
    "collapsed": false
   }
  },
  {
   "cell_type": "code",
   "execution_count": null,
   "outputs": [],
   "source": [
    "plz, kcid, bcid = get_network_info_for_plotting(representative_networks.iloc[3])\n",
    "plot_simple_grid(plz, bcid=bcid, kcid=kcid)"
   ],
   "metadata": {
    "collapsed": false,
    "ExecuteTime": {
     "start_time": "2023-11-10T09:08:13.094081600Z"
    }
   }
  },
  {
   "cell_type": "code",
   "execution_count": null,
   "outputs": [],
   "source": [
    "plot_with_generic_coordinates(plz, bcid=bcid, kcid=kcid)"
   ],
   "metadata": {
    "collapsed": false,
    "ExecuteTime": {
     "start_time": "2023-11-10T09:08:13.095081Z"
    }
   }
  },
  {
   "cell_type": "code",
   "execution_count": null,
   "outputs": [],
   "source": [
    "plz_str = (representative_networks.iloc[3]['plz'])\n",
    "df_register = pg.get_municipal_register_for_plz(plz_str)\n",
    "df_register"
   ],
   "metadata": {
    "collapsed": false,
    "ExecuteTime": {
     "end_time": "2023-11-10T09:08:13.131620200Z",
     "start_time": "2023-11-10T09:08:13.098084500Z"
    }
   }
  },
  {
   "cell_type": "code",
   "execution_count": null,
   "outputs": [],
   "source": [
    "## 4th grid"
   ],
   "metadata": {
    "collapsed": false,
    "ExecuteTime": {
     "start_time": "2023-11-10T09:08:13.099084600Z"
    }
   }
  },
  {
   "cell_type": "code",
   "execution_count": null,
   "outputs": [],
   "source": [
    "plz, kcid, bcid = get_network_info_for_plotting(representative_networks.iloc[4])\n",
    "plot_simple_grid(plz, bcid=bcid, kcid=kcid)"
   ],
   "metadata": {
    "collapsed": false,
    "ExecuteTime": {
     "start_time": "2023-11-10T09:08:13.101087800Z"
    }
   }
  },
  {
   "cell_type": "code",
   "execution_count": null,
   "outputs": [],
   "source": [
    "plot_with_generic_coordinates(plz, bcid=bcid, kcid=kcid)\n",
    "plz_str = (representative_networks.iloc[4]['plz'])"
   ],
   "metadata": {
    "collapsed": false,
    "ExecuteTime": {
     "start_time": "2023-11-10T09:08:13.103089100Z"
    }
   }
  },
  {
   "cell_type": "code",
   "execution_count": null,
   "outputs": [],
   "source": [
    "df_register = pg.get_municipal_register_for_plz(plz_str)\n",
    "df_register"
   ],
   "metadata": {
    "collapsed": false,
    "ExecuteTime": {
     "start_time": "2023-11-10T09:08:13.105091200Z"
    }
   }
  },
  {
   "cell_type": "code",
   "execution_count": null,
   "outputs": [],
   "source": [],
   "metadata": {
    "collapsed": false,
    "ExecuteTime": {
     "start_time": "2023-11-10T09:08:13.107092500Z"
    }
   }
  }
 ],
 "metadata": {
  "kernelspec": {
   "display_name": "Python 3",
   "language": "python",
   "name": "python3"
  },
  "language_info": {
   "codemirror_mode": {
    "name": "ipython",
    "version": 2
   },
   "file_extension": ".py",
   "mimetype": "text/x-python",
   "name": "python",
   "nbconvert_exporter": "python",
   "pygments_lexer": "ipython2",
   "version": "2.7.6"
  }
 },
 "nbformat": 4,
 "nbformat_minor": 0
}
