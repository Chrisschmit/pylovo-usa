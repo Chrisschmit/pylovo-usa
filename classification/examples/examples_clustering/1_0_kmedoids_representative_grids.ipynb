{
 "cells": [
  {
   "cell_type": "markdown",
   "metadata": {
    "collapsed": false
   },
   "source": [
    "# Clustering algorithm:  kmedoids\n",
    "visualise the representative grids"
   ]
  },
  {
   "cell_type": "code",
   "execution_count": 1,
   "metadata": {
    "ExecuteTime": {
     "end_time": "2023-11-10T09:08:13.071060400Z",
     "start_time": "2023-11-10T09:08:09.284656700Z"
    },
    "collapsed": false
   },
   "outputs": [],
   "source": [
    "import warnings\n",
    "import os\n",
    "import sys\n",
    "\n",
    "PROJECT_ROOT = os.path.abspath(os.path.join(os.getcwd(), \"../../..\")) # Determine the project's root directory\n",
    "sys.path.append(PROJECT_ROOT) # Add the project root directory to Python's module search path.\n",
    "\n",
    "\n",
    "from classification.clustering.clustering_algorithms import kmedoids_clustering\n",
    "from classification.clustering.config_clustering import *\n",
    "from classification.database_communication.DatabaseCommunication import DatabaseCommunication\n",
    "from plotting.plot_networks import *\n",
    "from plotting.plotting_classification import plot_radar_graph\n",
    "from pylovo.GridGenerator import GridGenerator\n",
    "\n",
    "warnings.filterwarnings('ignore')"
   ]
  },
  {
   "cell_type": "markdown",
   "metadata": {
    "collapsed": false
   },
   "source": [
    "Prepare data and calculate the clusters"
   ]
  },
  {
   "cell_type": "code",
   "execution_count": null,
   "metadata": {
    "ExecuteTime": {
     "start_time": "2023-11-10T09:08:13.056045600Z"
    },
    "collapsed": false
   },
   "outputs": [],
   "source": [
    "gg = GridGenerator(plz='80639')\n",
    "pg = gg.pgr"
   ]
  },
  {
   "cell_type": "code",
   "execution_count": null,
   "metadata": {
    "ExecuteTime": {
     "start_time": "2023-11-10T09:08:13.059050100Z"
    },
    "collapsed": false
   },
   "outputs": [],
   "source": [
    "dc = DatabaseCommunication()\n",
    "df_parameters_of_grids = dc.get_clustering_parameters_for_classification_version()"
   ]
  },
  {
   "cell_type": "code",
   "execution_count": null,
   "metadata": {
    "ExecuteTime": {
     "start_time": "2023-11-10T09:08:13.062052200Z"
    },
    "collapsed": false
   },
   "outputs": [],
   "source": [
    "df_parameters_of_grids, representative_networks = kmedoids_clustering(df_parameters_of_grids=df_parameters_of_grids,\n",
    "                                                                      list_of_clustering_parameters=LIST_OF_CLUSTERING_PARAMETERS,\n",
    "                                                                      n_clusters=N_CLUSTERS_KMEDOID)"
   ]
  },
  {
   "cell_type": "markdown",
   "metadata": {
    "collapsed": false
   },
   "source": [
    "## Radar Plot\n",
    "Compare the representative grids in terms of the clustering parameters. Which parameter dominates in the representative grid?"
   ]
  },
  {
   "cell_type": "code",
   "execution_count": null,
   "metadata": {
    "ExecuteTime": {
     "start_time": "2023-11-10T09:08:13.065053800Z"
    },
    "collapsed": false
   },
   "outputs": [],
   "source": [
    "plot_radar_graph(representative_networks=representative_networks, list_of_parameters=LIST_OF_CLUSTERING_PARAMETERS)"
   ]
  },
  {
   "cell_type": "markdown",
   "metadata": {
    "collapsed": false
   },
   "source": [
    "The parameters of the representative grids"
   ]
  },
  {
   "cell_type": "code",
   "execution_count": null,
   "metadata": {
    "ExecuteTime": {
     "start_time": "2023-11-10T09:08:13.067055900Z"
    },
    "collapsed": false
   },
   "outputs": [],
   "source": [
    "list(representative_networks['index'])"
   ]
  },
  {
   "cell_type": "code",
   "execution_count": null,
   "metadata": {
    "ExecuteTime": {
     "start_time": "2023-11-10T09:08:13.070058500Z"
    },
    "collapsed": false
   },
   "outputs": [],
   "source": [
    "\n",
    "representative_networks.iloc[:, [3, 4, 5, 7, 8, 9, 10, 12, 13, 14, 15, 16, 17, 18, 19, 20, 22, 26, 27]].T"
   ]
  },
  {
   "cell_type": "markdown",
   "metadata": {
    "collapsed": false
   },
   "source": [
    "## Plotting the Representative Grids\n",
    "## 0th grid"
   ]
  },
  {
   "cell_type": "code",
   "execution_count": null,
   "metadata": {
    "ExecuteTime": {
     "end_time": "2023-11-10T09:08:13.072060700Z",
     "start_time": "2023-11-10T09:08:13.072060700Z"
    },
    "collapsed": false
   },
   "outputs": [],
   "source": [
    "plz, kcid, bcid = get_network_info_for_plotting(representative_networks.iloc[0])\n",
    "plot_simple_grid(plz, bcid=bcid, kcid=kcid)"
   ]
  },
  {
   "cell_type": "code",
   "execution_count": null,
   "metadata": {
    "ExecuteTime": {
     "start_time": "2023-11-10T09:08:13.075064500Z"
    },
    "collapsed": false
   },
   "outputs": [],
   "source": [
    "plot_with_generic_coordinates(plz, bcid=bcid, kcid=kcid)"
   ]
  },
  {
   "cell_type": "code",
   "execution_count": null,
   "metadata": {
    "ExecuteTime": {
     "start_time": "2023-11-10T09:08:13.077066400Z"
    },
    "collapsed": false
   },
   "outputs": [],
   "source": [
    "plz_str = int(representative_networks.iloc[0]['plz'])\n",
    "df_register = pg.get_municipal_register_for_plz(plz_str)\n",
    "df_register"
   ]
  },
  {
   "cell_type": "markdown",
   "metadata": {
    "collapsed": false
   },
   "source": [
    "## first grid"
   ]
  },
  {
   "cell_type": "code",
   "execution_count": null,
   "metadata": {
    "ExecuteTime": {
     "start_time": "2023-11-10T09:08:13.080068900Z"
    },
    "collapsed": false
   },
   "outputs": [],
   "source": [
    "plz, kcid, bcid = get_network_info_for_plotting(representative_networks.iloc[1])\n",
    "plot_simple_grid(plz, bcid=bcid, kcid=kcid)"
   ]
  },
  {
   "cell_type": "code",
   "execution_count": null,
   "metadata": {
    "ExecuteTime": {
     "start_time": "2023-11-10T09:08:13.082069900Z"
    },
    "collapsed": false
   },
   "outputs": [],
   "source": [
    "plot_with_generic_coordinates(plz, bcid=bcid, kcid=kcid)"
   ]
  },
  {
   "cell_type": "code",
   "execution_count": null,
   "metadata": {
    "ExecuteTime": {
     "start_time": "2023-11-10T09:08:13.085073500Z"
    },
    "collapsed": false
   },
   "outputs": [],
   "source": [
    "plz_str = int(representative_networks.iloc[1]['plz'])\n",
    "df_register = pg.get_municipal_register_for_plz(plz_str)\n",
    "df_register"
   ]
  },
  {
   "cell_type": "markdown",
   "metadata": {
    "collapsed": false
   },
   "source": [
    "## second grid"
   ]
  },
  {
   "cell_type": "code",
   "execution_count": null,
   "metadata": {
    "ExecuteTime": {
     "start_time": "2023-11-10T09:08:13.088075600Z"
    },
    "collapsed": false
   },
   "outputs": [],
   "source": [
    "plz, kcid, bcid = get_network_info_for_plotting(representative_networks.iloc[2])\n",
    "plot_simple_grid(plz, bcid=bcid, kcid=kcid)"
   ]
  },
  {
   "cell_type": "code",
   "execution_count": null,
   "metadata": {
    "ExecuteTime": {
     "start_time": "2023-11-10T09:08:13.090076700Z"
    },
    "collapsed": false
   },
   "outputs": [],
   "source": [
    "plot_with_generic_coordinates(plz, bcid=bcid, kcid=kcid)"
   ]
  },
  {
   "cell_type": "code",
   "execution_count": null,
   "metadata": {
    "ExecuteTime": {
     "start_time": "2023-11-10T09:08:13.092078500Z"
    },
    "collapsed": false
   },
   "outputs": [],
   "source": [
    "plz_str = int(representative_networks.iloc[2]['plz'])\n",
    "df_register = pg.get_municipal_register_for_plz(plz_str)\n",
    "df_register"
   ]
  },
  {
   "cell_type": "markdown",
   "metadata": {
    "collapsed": false
   },
   "source": [
    "## third grid"
   ]
  },
  {
   "cell_type": "code",
   "execution_count": null,
   "metadata": {
    "ExecuteTime": {
     "start_time": "2023-11-10T09:08:13.094081600Z"
    },
    "collapsed": false
   },
   "outputs": [],
   "source": [
    "plz, kcid, bcid = get_network_info_for_plotting(representative_networks.iloc[3])\n",
    "plot_simple_grid(plz, bcid=bcid, kcid=kcid)"
   ]
  },
  {
   "cell_type": "code",
   "execution_count": null,
   "metadata": {
    "ExecuteTime": {
     "start_time": "2023-11-10T09:08:13.095081Z"
    },
    "collapsed": false
   },
   "outputs": [],
   "source": [
    "plot_with_generic_coordinates(plz, bcid=bcid, kcid=kcid)"
   ]
  },
  {
   "cell_type": "code",
   "execution_count": null,
   "metadata": {
    "ExecuteTime": {
     "end_time": "2023-11-10T09:08:13.131620200Z",
     "start_time": "2023-11-10T09:08:13.098084500Z"
    },
    "collapsed": false
   },
   "outputs": [],
   "source": [
    "plz_str = int(representative_networks.iloc[3]['plz'])\n",
    "df_register = pg.get_municipal_register_for_plz(plz_str)\n",
    "df_register"
   ]
  },
  {
   "cell_type": "code",
   "execution_count": null,
   "metadata": {
    "ExecuteTime": {
     "start_time": "2023-11-10T09:08:13.099084600Z"
    },
    "collapsed": false
   },
   "outputs": [],
   "source": [
    "## 4th grid"
   ]
  },
  {
   "cell_type": "code",
   "execution_count": null,
   "metadata": {
    "ExecuteTime": {
     "start_time": "2023-11-10T09:08:13.101087800Z"
    },
    "collapsed": false
   },
   "outputs": [],
   "source": [
    "plz, kcid, bcid = get_network_info_for_plotting(representative_networks.iloc[4])\n",
    "plot_simple_grid(plz, bcid=bcid, kcid=kcid)"
   ]
  },
  {
   "cell_type": "code",
   "execution_count": null,
   "metadata": {
    "ExecuteTime": {
     "start_time": "2023-11-10T09:08:13.103089100Z"
    },
    "collapsed": false
   },
   "outputs": [],
   "source": [
    "plot_with_generic_coordinates(plz, bcid=bcid, kcid=kcid)\n",
    "plz_str = (representative_networks.iloc[4]['plz'])"
   ]
  },
  {
   "cell_type": "code",
   "execution_count": null,
   "metadata": {
    "ExecuteTime": {
     "start_time": "2023-11-10T09:08:13.105091200Z"
    },
    "collapsed": false
   },
   "outputs": [],
   "source": [
    "df_register = pg.get_municipal_register_for_plz(plz_str)\n",
    "df_register"
   ]
  },
  {
   "cell_type": "code",
   "execution_count": null,
   "metadata": {
    "ExecuteTime": {
     "start_time": "2023-11-10T09:08:13.107092500Z"
    },
    "collapsed": false
   },
   "outputs": [],
   "source": []
  }
 ],
 "metadata": {
  "kernelspec": {
   "display_name": "pylovo-env-3-12",
   "language": "python",
   "name": "python3"
  },
  "language_info": {
   "codemirror_mode": {
    "name": "ipython",
    "version": 3
   },
   "file_extension": ".py",
   "mimetype": "text/x-python",
   "name": "python",
   "nbconvert_exporter": "python",
   "pygments_lexer": "ipython3",
   "version": "3.12.3"
  }
 },
 "nbformat": 4,
 "nbformat_minor": 0
}
