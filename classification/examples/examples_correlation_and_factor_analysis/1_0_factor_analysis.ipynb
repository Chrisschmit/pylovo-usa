{
 "cells": [
  {
   "cell_type": "markdown",
   "metadata": {
    "collapsed": false
   },
   "source": [
    "# Performing a factor analysis for the grid parameters\n",
    "https://www.datacamp.com/tutorial/introduction-factor-analysis\n",
    "Find the parameters for clustering that make up independent factors in the grid parameter dataset.\n",
    "\n",
    "The factor analysis:\n",
    "* reduces the number of observed variables and search for influential underlying factors or latent variables.\n",
    "* is a linear statistical model.\n",
    "* is aimed to gain an insight into the grid parameters."
   ]
  },
  {
   "cell_type": "code",
   "execution_count": 1,
   "metadata": {
    "ExecuteTime": {
     "end_time": "2023-12-13T12:59:40.359961200Z",
     "start_time": "2023-12-13T12:59:36.740122800Z"
    },
    "collapsed": false
   },
   "outputs": [],
   "source": [
    "import warnings\n",
    "import os\n",
    "import sys\n",
    "\n",
    "PROJECT_ROOT = os.path.abspath(os.path.join(os.getcwd(), \"../../..\")) # Determine the project's root directory\n",
    "sys.path.append(PROJECT_ROOT) # Add the project root directory to Python's module search path.\n",
    "\n",
    "\n",
    "from factor_analyzer import FactorAnalyzer\n",
    "from factor_analyzer.factor_analyzer import calculate_bartlett_sphericity\n",
    "from factor_analyzer.factor_analyzer import calculate_kmo\n",
    "\n",
    "from classification.database_communication.DatabaseCommunication import DatabaseCommunication\n",
    "from plotting.plotting_classification import plot_factor_analysis, get_parameters_for_clustering\n",
    "\n",
    "warnings.filterwarnings('ignore')"
   ]
  },
  {
   "cell_type": "markdown",
   "metadata": {
    "collapsed": false
   },
   "source": [
    "get grid parameter dataset and make qualitative pre-selection of parameters"
   ]
  },
  {
   "cell_type": "code",
   "execution_count": 2,
   "metadata": {
    "ExecuteTime": {
     "end_time": "2023-12-13T12:59:40.781178500Z",
     "start_time": "2023-12-13T12:59:40.362964500Z"
    },
    "collapsed": false
   },
   "outputs": [
    {
     "name": "stdout",
     "output_type": "stream",
     "text": [
      "Database connection is constructed. \n"
     ]
    }
   ],
   "source": [
    "dc = DatabaseCommunication()\n",
    "df = dc.get_clustering_parameters_for_classification_version()"
   ]
  },
  {
   "cell_type": "code",
   "execution_count": 3,
   "metadata": {
    "ExecuteTime": {
     "end_time": "2023-12-13T12:59:40.827218500Z",
     "start_time": "2023-12-13T12:59:40.784179600Z"
    },
    "collapsed": false
   },
   "outputs": [],
   "source": [
    "# Dropping unnecessary columns\n",
    "df.drop(['version_id', 'plz', 'bcid', 'kcid', 'ratio', 'osm_trafo', 'house_distance_km', 'no_connection_buses',\n",
    "         'resistance', 'reactance', 'simultaneous_peak_load_mw',\n",
    "         'no_household_equ', 'max_power_mw'], axis=1, inplace=True)"
   ]
  },
  {
   "cell_type": "code",
   "execution_count": 4,
   "metadata": {
    "ExecuteTime": {
     "end_time": "2023-12-13T12:59:40.839229900Z",
     "start_time": "2023-12-13T12:59:40.799193700Z"
    },
    "collapsed": false
   },
   "outputs": [
    {
     "name": "stdout",
     "output_type": "stream",
     "text": [
      "<class 'pandas.core.frame.DataFrame'>\n",
      "RangeIndex: 226 entries, 0 to 225\n",
      "Data columns (total 13 columns):\n",
      " #   Column                            Non-Null Count  Dtype  \n",
      "---  ------                            --------------  -----  \n",
      " 0   no_branches                       226 non-null    int64  \n",
      " 1   no_house_connections              226 non-null    int64  \n",
      " 2   no_house_connections_per_branch   226 non-null    float64\n",
      " 3   no_households                     226 non-null    int64  \n",
      " 4   no_households_per_branch          226 non-null    float64\n",
      " 5   max_no_of_households_of_a_branch  226 non-null    float64\n",
      " 6   transformer_mva                   226 non-null    float64\n",
      " 7   max_trafo_dis                     226 non-null    float64\n",
      " 8   avg_trafo_dis                     226 non-null    float64\n",
      " 9   cable_length_km                   226 non-null    float64\n",
      " 10  cable_len_per_house               226 non-null    float64\n",
      " 11  vsw_per_branch                    226 non-null    float64\n",
      " 12  max_vsw_of_a_branch               226 non-null    float64\n",
      "dtypes: float64(10), int64(3)\n",
      "memory usage: 23.1 KB\n"
     ]
    }
   ],
   "source": [
    "df.info()"
   ]
  },
  {
   "cell_type": "markdown",
   "metadata": {
    "collapsed": false
   },
   "source": [
    "## Adequacy test\n",
    "check 'factorability'\n",
    "'Bartlett’s test of sphericity checks whether or not the observed variables intercorrelate at all using the observed correlation matrix against the identity matrix. If the test found statistically insignificant, you should not employ a factor analysis' [datacamp]"
   ]
  },
  {
   "cell_type": "code",
   "execution_count": 5,
   "metadata": {
    "ExecuteTime": {
     "end_time": "2023-12-13T12:59:40.840230500Z",
     "start_time": "2023-12-13T12:59:40.817209900Z"
    },
    "collapsed": false
   },
   "outputs": [
    {
     "data": {
      "text/plain": [
       "(3754.7713610401615, 0.0)"
      ]
     },
     "execution_count": 5,
     "metadata": {},
     "output_type": "execute_result"
    }
   ],
   "source": [
    "chi_square_value, p_value = calculate_bartlett_sphericity(df)\n",
    "chi_square_value, p_value"
   ]
  },
  {
   "cell_type": "markdown",
   "metadata": {
    "collapsed": false
   },
   "source": [
    "'In this Bartlett ’s test, the p-value is 0. The test was statistically significant, indicating that the observed correlation matrix is not an identity matrix.'[datacamp]"
   ]
  },
  {
   "cell_type": "markdown",
   "metadata": {
    "collapsed": false
   },
   "source": [
    "'Kaiser-Meyer-Olkin (KMO) Test measures the suitability of data for factor analysis. It determines the adequacy for each observed variable and for the complete model. KMO estimates the proportion of variance among all the observed variable. Lower proportion id more suitable for factor analysis. KMO values range between 0 and 1. Value of KMO less than 0.6 is considered inadequate.' [datacamp]"
   ]
  },
  {
   "cell_type": "code",
   "execution_count": 6,
   "metadata": {
    "ExecuteTime": {
     "end_time": "2023-12-13T12:59:40.855244100Z",
     "start_time": "2023-12-13T12:59:40.831222600Z"
    },
    "collapsed": false
   },
   "outputs": [
    {
     "data": {
      "text/plain": [
       "0.7715283057370098"
      ]
     },
     "execution_count": 6,
     "metadata": {},
     "output_type": "execute_result"
    }
   ],
   "source": [
    "kmo_all, kmo_model = calculate_kmo(df)\n",
    "kmo_model"
   ]
  },
  {
   "cell_type": "markdown",
   "metadata": {
    "collapsed": false
   },
   "source": [
    "'The overall KMO for our data is 0.84, which is excellent. This value indicates that you can proceed with your planned factor analysis.' [datacamp]"
   ]
  },
  {
   "cell_type": "markdown",
   "metadata": {
    "collapsed": false
   },
   "source": [
    "## Number of factors"
   ]
  },
  {
   "cell_type": "code",
   "execution_count": 7,
   "metadata": {
    "ExecuteTime": {
     "end_time": "2023-12-13T12:59:40.938431300Z",
     "start_time": "2023-12-13T12:59:40.848237200Z"
    },
    "collapsed": false
   },
   "outputs": [
    {
     "data": {
      "text/plain": [
       "array([5.84190295, 2.56436618, 2.47971228, 0.86099163, 0.37555313,\n",
       "       0.2739075 , 0.19489071, 0.1153574 , 0.0913215 , 0.07068616,\n",
       "       0.05298019, 0.04399419, 0.03433617])"
      ]
     },
     "execution_count": 7,
     "metadata": {},
     "output_type": "execute_result"
    }
   ],
   "source": [
    "# Create factor analysis object and perform factor analysis\n",
    "fa = FactorAnalyzer()\n",
    "fa.fit(df)\n",
    "# Check Eigenvalues\n",
    "ev = fa.get_eigenvalues()\n",
    "ev[0]"
   ]
  },
  {
   "cell_type": "markdown",
   "metadata": {
    "collapsed": false
   },
   "source": [
    "get the eigenvalues larger than 1.\n",
    "This is the appropriate number of factors"
   ]
  },
  {
   "cell_type": "code",
   "execution_count": 8,
   "metadata": {
    "ExecuteTime": {
     "end_time": "2023-12-13T12:59:40.939434600Z",
     "start_time": "2023-12-13T12:59:40.911188800Z"
    },
    "collapsed": false
   },
   "outputs": [
    {
     "data": {
      "text/plain": [
       "3"
      ]
     },
     "execution_count": 8,
     "metadata": {},
     "output_type": "execute_result"
    }
   ],
   "source": [
    "no_of_factors = (ev[0] > 1).sum()\n",
    "no_of_factors"
   ]
  },
  {
   "cell_type": "markdown",
   "metadata": {
    "collapsed": false
   },
   "source": [
    "tutorial according to https://scikit-learn.org/stable/auto_examples/decomposition/plot_varimax_fa.html#sphx-glr-auto-examples-decomposition-plot-varimax-fa-py"
   ]
  },
  {
   "cell_type": "markdown",
   "metadata": {
    "collapsed": false
   },
   "source": [
    "## Principal Component Analysis, Factor Analysis\n"
   ]
  },
  {
   "cell_type": "code",
   "execution_count": 9,
   "metadata": {
    "ExecuteTime": {
     "end_time": "2023-12-13T12:59:41.494938800Z",
     "start_time": "2023-12-13T12:59:40.926420300Z"
    },
    "collapsed": false
   },
   "outputs": [
    {
     "data": {
      "image/png": "[encoded data removed]",
      "text/plain": [
       "<Figure size 1000x800 with 3 Axes>"
      ]
     },
     "metadata": {},
     "output_type": "display_data"
    }
   ],
   "source": [
    "plot_factor_analysis(df_grid_parameters=df, n_comps=no_of_factors)"
   ]
  },
  {
   "cell_type": "markdown",
   "metadata": {
    "collapsed": false
   },
   "source": [
    "For each factor the parameter is choosen that has the highest factor load on that factor in the factor analysis with varimax rotation.\n",
    "The proposed parameters for clustering thus are:"
   ]
  },
  {
   "cell_type": "code",
   "execution_count": 10,
   "metadata": {
    "ExecuteTime": {
     "end_time": "2023-12-13T12:59:41.573007400Z",
     "start_time": "2023-12-13T12:59:41.486933900Z"
    },
    "collapsed": false
   },
   "outputs": [
    {
     "name": "stdout",
     "output_type": "stream",
     "text": [
      "no_branches\n",
      "avg_trafo_dis\n",
      "max_no_of_households_of_a_branch\n"
     ]
    }
   ],
   "source": [
    "get_parameters_for_clustering(df_grid_parameters=df, n_comps=no_of_factors)"
   ]
  }
 ],
 "metadata": {
  "kernelspec": {
   "display_name": "pylovo-env-3-12",
   "language": "python",
   "name": "python3"
  },
  "language_info": {
   "codemirror_mode": {
    "name": "ipython",
    "version": 3
   },
   "file_extension": ".py",
   "mimetype": "text/x-python",
   "name": "python",
   "nbconvert_exporter": "python",
   "pygments_lexer": "ipython3",
   "version": "3.12.3"
  }
 },
 "nbformat": 4,
 "nbformat_minor": 0
}
